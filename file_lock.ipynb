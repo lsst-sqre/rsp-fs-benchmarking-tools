{
 "cells": [
  {
   "cell_type": "code",
   "execution_count": null,
   "id": "b5a88714",
   "metadata": {},
   "outputs": [],
   "source": [
    "import fcntl, os\n",
    "from datetime import datetime, timezone\n",
    "from pathlib import Path\n",
    "\n",
    "def _now():\n",
    "    return datetime.now(tz=timezone.utc).isoformat()\n",
    "\n",
    "workdir=Path(os.path.join(str(Path.home()),\"WORK/locktest\"))\n",
    "workdir.mkdir(parents=True,exist_ok=True)\n",
    "testfile=Path(os.path.join(workdir,\"testfile\"))\n",
    "initialtext=f\"Hello world: {_now()}\\n\"\n",
    "bytes_written=testfile.write_text(initialtext)\n",
    "\n",
    "# Test single-threaded locking\n",
    "\n",
    "fname=str(testfile)\n",
    "for mode in (\"r\",\"r+\"):\n",
    "    modename=\"read\" if mode==\"r\" else \"read-write\"\n",
    "    print(f\"Opening {fname} with mode {modename}\")\n",
    "    fd=open(fname, mode)\n",
    "    print(f\"{fname} opened mode {modename}\")\n",
    "\n",
    "    for lockrange in (\"all\", \"some\"):\n",
    "        if lockrange == \"some\":\n",
    "            num = 3\n",
    "            start = 3\n",
    "        else:\n",
    "            num = 0\n",
    "            start = 0\n",
    "        for locktype in (fcntl.LOCK_SH, fcntl.LOCK_EX):\n",
    "            print(f\"Attempting lock {locktype} on {fname} with len {num}, start {start}\")\n",
    "            try:\n",
    "                fcntl.lockf(fd, locktype, num, start, 0)\n",
    "            except OSError as e:\n",
    "                if e.errno==9 and locktype==fcntl.LOCK_EX and mode==\"r\":\n",
    "                    print(\"Received expected failure to get exclusive lock on read-only file.\")\n",
    "                    continue\n",
    "            print(f\"Lock acquired, attempting file operations for mode {modename}\")\n",
    "            fd.seek(0,0)  # Rewind to beginning\n",
    "            if mode == \"r\":\n",
    "                print(\"Reading file\")\n",
    "                assert fd.read() == initialtext  # Reads come first to test against initialtext\n",
    "            else:\n",
    "                newtext=f\"Updated world: {_now()}\"\n",
    "                print(\"Writing file\")\n",
    "                _=fd.write(newtext)\n",
    "                fd.seek(0,0)\n",
    "                print(\"Reading file\")\n",
    "                assert fd.read() == newtext            \n",
    "            print(\"File operations succeeded: Releasing lock\")\n",
    "            fcntl.lockf(fd, fcntl.LOCK_UN)"
   ]
  },
  {
   "cell_type": "code",
   "execution_count": null,
   "id": "227a871c",
   "metadata": {},
   "outputs": [],
   "source": []
  },
  {
   "cell_type": "code",
   "execution_count": null,
   "id": "43fff746",
   "metadata": {},
   "outputs": [],
   "source": []
  }
 ],
 "metadata": {
  "kernelspec": {
   "display_name": "LSST",
   "language": "python",
   "name": "lsst"
  },
  "language_info": {
   "codemirror_mode": {
    "name": "ipython",
    "version": 3
   },
   "file_extension": ".py",
   "mimetype": "text/x-python",
   "name": "python",
   "nbconvert_exporter": "python",
   "pygments_lexer": "ipython3",
   "version": "3.8.8"
  }
 },
 "nbformat": 4,
 "nbformat_minor": 5
}
